{
  "nbformat": 4,
  "nbformat_minor": 0,
  "metadata": {
    "colab": {
      "provenance": [],
      "authorship_tag": "ABX9TyPDyTUOLxCs2aao1I/xc1m1",
      "include_colab_link": true
    },
    "kernelspec": {
      "name": "python3",
      "display_name": "Python 3"
    },
    "language_info": {
      "name": "python"
    }
  },
  "cells": [
    {
      "cell_type": "markdown",
      "metadata": {
        "id": "view-in-github",
        "colab_type": "text"
      },
      "source": [
        "<a href=\"https://colab.research.google.com/github/dp1500/Deep-Learning-IITM-Assignments/blob/main/Bonus_activity_2.ipynb\" target=\"_parent\"><img src=\"https://colab.research.google.com/assets/colab-badge.svg\" alt=\"Open In Colab\"/></a>"
      ]
    },
    {
      "cell_type": "code",
      "execution_count": 1,
      "metadata": {
        "colab": {
          "base_uri": "https://localhost:8080/"
        },
        "id": "l3VfNy8aqzhm",
        "outputId": "152db55c-d8e0-485c-9a85-626a86e2aceb"
      },
      "outputs": [
        {
          "output_type": "stream",
          "name": "stdout",
          "text": [
            "The value of w after 70 iterations is: 0.6451848770156776\n"
          ]
        }
      ],
      "source": [
        "import numpy as np\n",
        "\n",
        "# Data points\n",
        "x = np.array([-2, 2])\n",
        "y = np.array([0.18, 0.81])\n",
        "\n",
        "# Initialize w and b\n",
        "w = 0\n",
        "b = 0\n",
        "\n",
        "# Learning rate\n",
        "η = 0.1\n",
        "\n",
        "# Number of iterations\n",
        "iterations = 70\n",
        "\n",
        "# Gradient Descent\n",
        "for _ in range(iterations):\n",
        "    y_pred = 1 / (1 + np.exp(-(w * x + b)))\n",
        "    gradient_w = np.sum((y_pred - y) * y_pred * (1 - y_pred) * x)\n",
        "    gradient_b = np.sum((y_pred - y) * y_pred * (1 - y_pred))\n",
        "    w -= η * gradient_w\n",
        "    b -= η * gradient_b\n",
        "\n",
        "print(f\"The value of w after {iterations} iterations is: {w}\")\n"
      ]
    },
    {
      "cell_type": "code",
      "source": [
        "import numpy as np\n",
        "\n",
        "# Data points\n",
        "x = np.array([-6, -4, -2, 0, 2, 4, 6])\n",
        "y = np.array([0.01, 0.04, 0.18, 0.5, 0.81, 0.95, 0.98])\n",
        "\n",
        "# Initialize w and b\n",
        "w = 0\n",
        "b = 0\n",
        "\n",
        "# Learning rate\n",
        "η = 0.1\n",
        "\n",
        "# Number of iterations\n",
        "iterations = 70\n",
        "\n",
        "# Gradient Descent\n",
        "for _ in range(iterations):\n",
        "    y_pred = 1 / (1 + np.exp(-(w * x + b)))\n",
        "    gradient_w = np.sum((y_pred - y) * y_pred * (1 - y_pred) * x)\n",
        "    gradient_b = np.sum((y_pred - y) * y_pred * (1 - y_pred))\n",
        "    w -= η * gradient_w\n",
        "    b -= η * gradient_b\n",
        "\n",
        "print(f\"The value of w after {iterations} iterations is: {w}\")\n"
      ],
      "metadata": {
        "colab": {
          "base_uri": "https://localhost:8080/"
        },
        "id": "_muvUoBRq0Qq",
        "outputId": "86cc4e8f-24d6-476d-f479-314e0fc88aac"
      },
      "execution_count": 2,
      "outputs": [
        {
          "output_type": "stream",
          "name": "stdout",
          "text": [
            "The value of w after 70 iterations is: 0.7184295379661756\n"
          ]
        }
      ]
    },
    {
      "cell_type": "code",
      "source": [],
      "metadata": {
        "id": "KCxuU07urDnu"
      },
      "execution_count": null,
      "outputs": []
    }
  ]
}