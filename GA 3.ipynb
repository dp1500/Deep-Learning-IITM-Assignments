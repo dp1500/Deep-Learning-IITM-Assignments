{
  "nbformat": 4,
  "nbformat_minor": 0,
  "metadata": {
    "colab": {
      "provenance": [],
      "authorship_tag": "ABX9TyOlr5FMTo0kdmRo6tsZ/XJ+",
      "include_colab_link": true
    },
    "kernelspec": {
      "name": "python3",
      "display_name": "Python 3"
    },
    "language_info": {
      "name": "python"
    }
  },
  "cells": [
    {
      "cell_type": "markdown",
      "metadata": {
        "id": "view-in-github",
        "colab_type": "text"
      },
      "source": [
        "<a href=\"https://colab.research.google.com/github/dp1500/Deep-Learning-IITM-Assignments/blob/main/GA%203.ipynb\" target=\"_parent\"><img src=\"https://colab.research.google.com/assets/colab-badge.svg\" alt=\"Open In Colab\"/></a>"
      ]
    },
    {
      "cell_type": "code",
      "execution_count": null,
      "metadata": {
        "id": "OBYPQNkCtKLG"
      },
      "outputs": [],
      "source": []
    },
    {
      "cell_type": "code",
      "execution_count": null,
      "metadata": {
        "colab": {
          "base_uri": "https://localhost:8080/"
        },
        "id": "xSUsUfRIH0FW",
        "outputId": "2f9f98f3-7379-4c6a-9e1b-b4249a678dce"
      },
      "outputs": [
        {
          "output_type": "stream",
          "name": "stdout",
          "text": [
            "vπ(high) = 0.73\n"
          ]
        }
      ],
      "source": [
        "gamma = 0.9\n",
        "threshold = 1e-5\n",
        "\n",
        "v_high = 0  # Initial estimate for v(high)\n",
        "\n",
        "while True:\n",
        "    v_high_new = 0.2 * (3 + gamma * v_high)  # Update v(high)\n",
        "\n",
        "    # Check for convergence\n",
        "    if abs(v_high_new - v_high) < threshold:\n",
        "        break\n",
        "\n",
        "    v_high = v_high_new  # Update the value estimate\n",
        "\n",
        "# Round the result to two decimal places\n",
        "v_high = round(v_high, 2)\n",
        "\n",
        "print(\"vπ(high) =\", v_high)\n"
      ]
    },
    {
      "cell_type": "code",
      "source": [
        "gamma = 0.9\n",
        "threshold = 1e-5\n",
        "\n",
        "v_low = 0  # Initial estimate for v(low)\n",
        "\n",
        "while True:\n",
        "    v_low_new = 1 * (0 + gamma * v_low)  # Update v(low)\n",
        "\n",
        "    # Check for convergence\n",
        "    if abs(v_low_new - v_low) < threshold:\n",
        "        break\n",
        "\n",
        "    v_low = v_low_new  # Update the value estimate\n",
        "\n",
        "# Round the result to two decimal places\n",
        "v_low = round(v_low, 2)\n",
        "\n",
        "print(\"vπ(low) =\", v_low)\n"
      ],
      "metadata": {
        "colab": {
          "base_uri": "https://localhost:8080/"
        },
        "id": "qwTmUc3aH0yv",
        "outputId": "9f3b903a-350a-4942-b7c5-76dfbbed2732"
      },
      "execution_count": null,
      "outputs": [
        {
          "output_type": "stream",
          "name": "stdout",
          "text": [
            "vπ(low) = 0\n"
          ]
        }
      ]
    },
    {
      "cell_type": "code",
      "source": [
        "gamma = 0.9\n",
        "threshold = 1e-5\n",
        "\n",
        "v_low = 0  # Initial estimate for v(low)\n",
        "\n",
        "while True:\n",
        "    v_low_new = 0.1 * (0 + gamma * v_low) + 0.9 * (0 + gamma * v_low)  # Update v(low)\n",
        "\n",
        "    # Check for convergence\n",
        "    if abs(v_low_new - v_low) < threshold:\n",
        "        break\n",
        "\n",
        "    v_low = v_low_new  # Update the value estimate\n",
        "\n",
        "# Round the result to two decimal places\n",
        "v_low = round(v_low, 2)\n",
        "\n",
        "print(\"vπ(low) =\", v_low)\n",
        "\n"
      ],
      "metadata": {
        "colab": {
          "base_uri": "https://localhost:8080/"
        },
        "id": "Qzuy70uZIA8w",
        "outputId": "d83138e3-5675-4116-b708-3a86e3128f3b"
      },
      "execution_count": null,
      "outputs": [
        {
          "output_type": "stream",
          "name": "stdout",
          "text": [
            "vπ(low) = 0\n"
          ]
        }
      ]
    },
    {
      "cell_type": "code",
      "source": [
        "import numpy as np\n",
        "\n",
        "# Load the weights and biases\n",
        "files = np.load('/content/parameters.npz')\n",
        "W1 = files.get('W1')\n",
        "W2 = files.get('W2')\n",
        "W3 = files.get('W3')\n",
        "b1 = files.get('b1')\n",
        "b2 = files.get('b2')\n",
        "b3 = files.get('b3')\n",
        "\n",
        "# Input vector\n",
        "x = np.array([1, 0, 1]).reshape(3, 1)\n",
        "\n",
        "# Expected labels\n",
        "y = np.array([0, 0, 1])\n",
        "\n",
        "# Sigmoid activation function\n",
        "def sigmoid(z):\n",
        "    return 1 / (1 + np.exp(-z))\n",
        "\n",
        "# Softmax activation function\n",
        "def softmax(z):\n",
        "    exp_z = np.exp(z - np.max(z))  # Subtract max(z) for numerical stability\n",
        "    return exp_z / exp_z.sum()\n",
        "\n",
        "# Forward pass\n",
        "a1 = np.dot(W1, x) + b1\n",
        "h1 = sigmoid(np.dot(W1, x) + b1)\n",
        "\n",
        "a2 = np.dot(W2, a1) + b2\n",
        "h2 = sigmoid(np.dot(W2, a1) + b2)\n",
        "\n",
        "\n",
        "a3 = np.dot(W3, a2) + b3\n",
        "h3 = softmax(np.dot(W3, a2) + b3)\n",
        "\n",
        "# Calculate cross-entropy loss\n",
        "loss = -np.sum(y * np.log(a3))\n",
        "\n",
        "print(\"Predicted output:\", a3)\n",
        "print(\"Cross-entropy loss:\", loss)\n",
        "\n"
      ],
      "metadata": {
        "colab": {
          "base_uri": "https://localhost:8080/"
        },
        "id": "tmSr92_SIL5N",
        "outputId": "92be0590-fd7e-4115-bf2e-10fa8216cee1"
      },
      "execution_count": null,
      "outputs": [
        {
          "output_type": "stream",
          "name": "stdout",
          "text": [
            "Predicted output: [[3.23544033]\n",
            " [6.94803277]\n",
            " [5.8668836 ]]\n",
            "Cross-entropy loss: -4.881947188257447\n"
          ]
        }
      ]
    },
    {
      "cell_type": "code",
      "source": [
        "print()"
      ],
      "metadata": {
        "colab": {
          "base_uri": "https://localhost:8080/"
        },
        "id": "KLPncAOfTxRr",
        "outputId": "681cc4fb-6bed-4d0e-c4c8-e16182b104e3"
      },
      "execution_count": null,
      "outputs": [
        {
          "output_type": "stream",
          "name": "stdout",
          "text": [
            "\n"
          ]
        }
      ]
    },
    {
      "cell_type": "code",
      "source": [
        "# a1 = sigmoid(np.dot(W1, x) + b1)\n"
      ],
      "metadata": {
        "id": "WCzQTHFJaIwh"
      },
      "execution_count": null,
      "outputs": []
    },
    {
      "cell_type": "code",
      "source": [
        "print(a1)"
      ],
      "metadata": {
        "colab": {
          "base_uri": "https://localhost:8080/"
        },
        "id": "EPkP5PUZctJg",
        "outputId": "ea129a12-88eb-45c8-ccb0-cc46ec53fd78"
      },
      "execution_count": null,
      "outputs": [
        {
          "output_type": "stream",
          "name": "stdout",
          "text": [
            "[[1.5350184 ]\n",
            " [1.98250233]\n",
            " [1.93014489]]\n"
          ]
        }
      ]
    },
    {
      "cell_type": "code",
      "source": [
        "print(a1.sum())"
      ],
      "metadata": {
        "colab": {
          "base_uri": "https://localhost:8080/"
        },
        "id": "0tce3NBecuLN",
        "outputId": "a91aa5df-d586-486a-dd18-80aa2abd6dd1"
      },
      "execution_count": null,
      "outputs": [
        {
          "output_type": "stream",
          "name": "stdout",
          "text": [
            "5.44766562448759\n"
          ]
        }
      ]
    },
    {
      "cell_type": "code",
      "source": [
        "h1"
      ],
      "metadata": {
        "colab": {
          "base_uri": "https://localhost:8080/"
        },
        "id": "htdmYXYJdWNt",
        "outputId": "3a6eb417-15d0-4ba5-bcb7-50c4000549b8"
      },
      "execution_count": null,
      "outputs": [
        {
          "output_type": "execute_result",
          "data": {
            "text/plain": [
              "array([[0.82273938],\n",
              "       [0.87894766],\n",
              "       [0.87326546]])"
            ]
          },
          "metadata": {},
          "execution_count": 13
        }
      ]
    },
    {
      "cell_type": "code",
      "source": [
        "print(h1.sum())"
      ],
      "metadata": {
        "colab": {
          "base_uri": "https://localhost:8080/"
        },
        "id": "-PMRuviYd9w7",
        "outputId": "5c6e10ca-1ab8-47f5-bcbb-152160659a6a"
      },
      "execution_count": null,
      "outputs": [
        {
          "output_type": "stream",
          "name": "stdout",
          "text": [
            "2.5749524957231924\n"
          ]
        }
      ]
    },
    {
      "cell_type": "code",
      "source": [
        "l = []\n",
        "for x in [a2,h2,a3]:\n",
        "  l.append(x.sum())"
      ],
      "metadata": {
        "id": "PKCn0AeXeATR"
      },
      "execution_count": null,
      "outputs": []
    },
    {
      "cell_type": "code",
      "source": [
        "print(l)"
      ],
      "metadata": {
        "colab": {
          "base_uri": "https://localhost:8080/"
        },
        "id": "-q1h0AhEeVCY",
        "outputId": "de193ec1-c4a8-4910-9403-de5d3ae5b47c"
      },
      "execution_count": null,
      "outputs": [
        {
          "output_type": "stream",
          "name": "stdout",
          "text": [
            "[11.474299614338914, 2.8747650858050005, 16.050356702372174]\n"
          ]
        }
      ]
    },
    {
      "cell_type": "code",
      "source": [
        "import numpy as np\n",
        "\n",
        "# Given predicted output probabilities\n",
        "a3 = np.array([[3.23544033], [6.94803277], [5.8668836]])\n",
        "\n",
        "# True labels\n",
        "y = np.array([0, 0, 1])  # Assuming one-hot encoded labels\n",
        "\n",
        "# Calculate cross-entropy loss\n",
        "loss = -np.sum(y * np.log(a3))\n",
        "\n",
        "# Print the loss value\n",
        "print(\"Cross-entropy loss:\", loss)\n"
      ],
      "metadata": {
        "colab": {
          "base_uri": "https://localhost:8080/"
        },
        "id": "EiNMmTm6eWFq",
        "outputId": "7f1ecdd7-8ceb-4f1d-c633-94a92a489024"
      },
      "execution_count": null,
      "outputs": [
        {
          "output_type": "stream",
          "name": "stdout",
          "text": [
            "Cross-entropy loss: -4.881947187862163\n"
          ]
        }
      ]
    },
    {
      "cell_type": "code",
      "source": [],
      "metadata": {
        "id": "ei2qCnaplBYV"
      },
      "execution_count": null,
      "outputs": []
    }
  ]
}